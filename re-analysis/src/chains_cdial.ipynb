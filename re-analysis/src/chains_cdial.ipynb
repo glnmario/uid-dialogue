{
 "cells": [
  {
   "cell_type": "code",
   "execution_count": null,
   "outputs": [],
   "source": [
    "import pandas as pd\n",
    "import numpy as np\n",
    "from matplotlib import pyplot as plt\n",
    "import seaborn as sns\n",
    "import matplotlib.ticker as ticker\n",
    "from collections import defaultdict\n",
    "\n",
    "sns.set_style(\"whitegrid\")\n",
    "sns.set(rc={'figure.figsize':(10,5)})"
   ],
   "metadata": {
    "collapsed": false,
    "pycharm": {
     "name": "#%%\n"
    }
   }
  },
  {
   "cell_type": "code",
   "execution_count": null,
   "outputs": [],
   "source": [
    "chains = pd.read_csv('/Users/mario/code/erp/chains_output/chains_mi.csv').dropna()\n",
    "dials = pd.read_csv('/Users/mario/Downloads/data/pb_gpt2-ft.csv').dropna()"
   ],
   "metadata": {
    "collapsed": false,
    "pycharm": {
     "name": "#%%\n"
    }
   }
  },
  {
   "cell_type": "code",
   "execution_count": null,
   "outputs": [],
   "source": [
    "chains.head()"
   ],
   "metadata": {
    "collapsed": false,
    "pycharm": {
     "name": "#%%\n"
    }
   }
  },
  {
   "cell_type": "code",
   "execution_count": null,
   "outputs": [],
   "source": [
    "chains.keys()"
   ],
   "metadata": {
    "collapsed": false,
    "pycharm": {
     "name": "#%%\n"
    }
   }
  },
  {
   "cell_type": "code",
   "execution_count": null,
   "outputs": [],
   "source": [
    "dials.keys()"
   ],
   "metadata": {
    "collapsed": false,
    "pycharm": {
     "name": "#%%\n"
    }
   }
  },
  {
   "cell_type": "code",
   "execution_count": null,
   "outputs": [],
   "source": [
    "chains.iloc[0, :].values"
   ],
   "metadata": {
    "collapsed": false,
    "pycharm": {
     "name": "#%%\n"
    }
   }
  },
  {
   "cell_type": "code",
   "execution_count": null,
   "outputs": [],
   "source": [
    "hs = []\n",
    "hsc = []\n",
    "not_found = 0\n",
    "found_multiple = defaultdict(list)\n",
    "\n",
    "new_df = []\n",
    "\n",
    "for i in range(len(chains)):\n",
    "    dial_id = chains.iloc[i, 0]\n",
    "    speaker = chains.iloc[i, 1]\n",
    "    round_number = chains.iloc[i, 3]\n",
    "    tokens = chains.iloc[i, 6]\n",
    "\n",
    "    utterance_in_dialogue = dials[\n",
    "        (dials['dialogue_id'] == dial_id)\n",
    "        & (dials['speaker'] == speaker)\n",
    "        & (dials['round_number'] == round_number)\n",
    "        & (dials['tokens'] == tokens)\n",
    "    ]\n",
    "    \n",
    "    if len(utterance_in_dialogue) == 0:\n",
    "        not_found += 1\n",
    "        continue\n",
    "        \n",
    "#     assert len(utterance_in_dialogue) == 1, f'Found {len(utterance_in_dialogue)} utterances'\n",
    "    \n",
    "    if len(utterance_in_dialogue) > 1:\n",
    "#         print(dial_id, round_number, speaker, tokens)\n",
    "#         print()\n",
    "#         print(utterance_in_dialogue)\n",
    "\n",
    "        for j, row in utterance_in_dialogue.iterrows():\n",
    "            \n",
    "            position_in_round = row['position_in_round']\n",
    "#             print(position_in_round)\n",
    "            if position_in_round in found_multiple[(dial_id, speaker, round_number, tokens)]:\n",
    "#                 print('Already processed')\n",
    "                continue\n",
    "            else:\n",
    "                found_multiple[(dial_id, speaker, round_number, tokens)].append(position_in_round)\n",
    "#                 print(f'This is position {position_in_round}')\n",
    "                utterance_in_dialogue = pd.DataFrame(row)\n",
    "                hs = row['normalised_h']\n",
    "                hsc = row['normalised_h_doc']\n",
    "    else:\n",
    "                \n",
    "#         print(dial_id, round_number, speaker, tokens)\n",
    "#         print()\n",
    "#         print(utterance_in_dialogue)\n",
    "#         break\n",
    "        \n",
    "        hs = float(list(utterance_in_dialogue['normalised_h'])[0])\n",
    "        hsc = float(list(utterance_in_dialogue['normalised_h_doc'])[0])\n",
    "    \n",
    "    new_row = list(chains.iloc[i, :].values) + [hs, hsc]\n",
    "    new_df.append(tuple(new_row))\n",
    "    \n",
    "print(not_found)"
   ],
   "metadata": {
    "collapsed": false,
    "pycharm": {
     "name": "#%%\n"
    }
   }
  },
  {
   "cell_type": "code",
   "execution_count": null,
   "outputs": [],
   "source": [
    "chains_dial = pd.DataFrame(new_df, columns=list(chains.keys()) + ['hs_dial', 'hsc_dial'])"
   ],
   "metadata": {
    "collapsed": false,
    "pycharm": {
     "name": "#%%\n"
    }
   }
  },
  {
   "cell_type": "code",
   "execution_count": null,
   "outputs": [],
   "source": [
    "float(chains_dial.iloc[0, -1].values)"
   ],
   "metadata": {
    "collapsed": false,
    "pycharm": {
     "name": "#%%\n"
    }
   }
  },
  {
   "cell_type": "code",
   "execution_count": null,
   "outputs": [],
   "source": [
    "chains_dial.head()"
   ],
   "metadata": {
    "collapsed": false,
    "pycharm": {
     "name": "#%%\n"
    }
   }
  },
  {
   "cell_type": "code",
   "execution_count": null,
   "outputs": [],
   "source": [
    "surprisal_by_len = defaultdict(list)\n",
    "for i in range(len(chains_dial)):\n",
    "    surprisal_by_len[\n",
    "        chains_dial.iloc[i, :]['length']\n",
    "    ].append(\n",
    "        chains_dial.iloc[i, :]['hs_dial']\n",
    "    )\n",
    "\n",
    "    surprisal_by_len[\n",
    "        chains_dial.iloc[i, :]['length']\n",
    "    ].append(\n",
    "        chains_dial.iloc[i, :]['hsc_dial']\n",
    "    )\n",
    "    \n",
    "mean_surprisal_by_len = {}\n",
    "for l in surprisal_by_len:\n",
    "    mean_surprisal_by_len[l] = np.mean(surprisal_by_len[l])\n",
    "\n",
    "xu_hs_dial = []\n",
    "xu_hsc_dial = []\n",
    "for index, row in chains_dial.iterrows():\n",
    "    try:\n",
    "        xu_hs_dial.append(row['hs_dial'] / mean_surprisal_by_len[row['length']])\n",
    "    except KeyError:\n",
    "        xu_hs_dial.append(np.nan)\n",
    "    try:\n",
    "        xu_hsc_dial.append(row['hsc_dial'] / mean_surprisal_by_len[row['length']])\n",
    "    except KeyError:\n",
    "        xu_hsc_dial.append(np.nan)\n",
    "        \n",
    "chains_dial.loc[:, 'xu_hs_dial'] = xu_hs_dial\n",
    "chains_dial.loc[:, 'xu_hsc_dial'] = xu_hsc_dial\n",
    "\n",
    "df_new = chains_dial.copy()\n",
    "\n",
    "\n",
    "mi_dial = []\n",
    "xu_mi_dial = []\n",
    "nans = 0\n",
    "for index, row in chains_dial.iterrows():\n",
    "    try:\n",
    "        mi_dial.append(row['hs_dial'] - row['hsc_dial'])\n",
    "    except KeyError:\n",
    "        mi_dial.append(np.nan)\n",
    "    try:\n",
    "        xu_mi_dial.append(row['xu_hs_dial'] - row['xu_hsc_dial'])\n",
    "    except KeyError:\n",
    "        xu_mi_dial.append(np.nan)\n",
    "\n",
    "df_new.loc[:, 'mi_dial'] = mi_dial\n",
    "df_new.loc[:, 'hs_dial'] = chains_dial['hs_dial'].values\n",
    "df_new.loc[:, 'hsc_dial'] = chains_dial['hsc_dial'].values\n",
    "df_new.loc[:, 'xu_hs_dial'] = chains_dial['xu_hs_dial'].values\n",
    "df_new.loc[:, 'xu_hsc_dial'] = chains_dial['xu_hsc_dial'].values\n",
    "df_new.loc[:, 'xu_mi_dial'] = xu_mi_dial\n"
   ],
   "metadata": {
    "collapsed": false,
    "pycharm": {
     "name": "#%%\n"
    }
   }
  },
  {
   "cell_type": "code",
   "execution_count": null,
   "outputs": [],
   "source": [
    "df_new.head()"
   ],
   "metadata": {
    "collapsed": false,
    "pycharm": {
     "name": "#%%\n"
    }
   }
  },
  {
   "cell_type": "code",
   "execution_count": null,
   "outputs": [],
   "source": [
    "df_new.to_csv('/Users/mario/code/erp/chains_output/chains_mi_dial.csv')"
   ],
   "metadata": {
    "collapsed": false,
    "pycharm": {
     "name": "#%%\n"
    }
   }
  },
  {
   "cell_type": "code",
   "execution_count": null,
   "outputs": [],
   "source": [],
   "metadata": {
    "collapsed": false,
    "pycharm": {
     "name": "#%%\n"
    }
   }
  },
  {
   "cell_type": "code",
   "execution_count": 39,
   "id": "cfef2464",
   "metadata": {},
   "outputs": [],
   "source": [
    "chains = pd.read_csv('/Users/mario/code/erp/chains_output/chains_mi.csv').dropna()\n",
    "dials = pd.read_csv('/Users/mario/Downloads/data/pb_gpt2-ft.csv').dropna()"
   ]
  },
  {
   "cell_type": "code",
   "execution_count": 61,
   "id": "80bc6e6e",
   "metadata": {},
   "outputs": [
    {
     "data": {
      "text/html": [
       "<div>\n",
       "<style scoped>\n",
       "    .dataframe tbody tr th:only-of-type {\n",
       "        vertical-align: middle;\n",
       "    }\n",
       "\n",
       "    .dataframe tbody tr th {\n",
       "        vertical-align: top;\n",
       "    }\n",
       "\n",
       "    .dataframe thead th {\n",
       "        text-align: right;\n",
       "    }\n",
       "</style>\n",
       "<table border=\"1\" class=\"dataframe\">\n",
       "  <thead>\n",
       "    <tr style=\"text-align: right;\">\n",
       "      <th></th>\n",
       "      <th>dialogue_id</th>\n",
       "      <th>speaker</th>\n",
       "      <th>position_in_chain</th>\n",
       "      <th>round_number</th>\n",
       "      <th>chain_id</th>\n",
       "      <th>length</th>\n",
       "      <th>tokens</th>\n",
       "      <th>xu_hs</th>\n",
       "      <th>mi</th>\n",
       "      <th>hs</th>\n",
       "      <th>hsc</th>\n",
       "      <th>xu_hsc</th>\n",
       "      <th>xu_mi</th>\n",
       "    </tr>\n",
       "  </thead>\n",
       "  <tbody>\n",
       "    <tr>\n",
       "      <th>0</th>\n",
       "      <td>2389</td>\n",
       "      <td>A</td>\n",
       "      <td>1</td>\n",
       "      <td>1</td>\n",
       "      <td>1</td>\n",
       "      <td>7</td>\n",
       "      <td>['kids', 'Ġplaying', 'Ġsoccer', 'Ġin', 'Ġgreen...</td>\n",
       "      <td>0.747428</td>\n",
       "      <td>-0.000006</td>\n",
       "      <td>3.792338</td>\n",
       "      <td>3.792345</td>\n",
       "      <td>0.747429</td>\n",
       "      <td>-0.000001</td>\n",
       "    </tr>\n",
       "    <tr>\n",
       "      <th>1</th>\n",
       "      <td>2389</td>\n",
       "      <td>A</td>\n",
       "      <td>2</td>\n",
       "      <td>2</td>\n",
       "      <td>1</td>\n",
       "      <td>7</td>\n",
       "      <td>['kids', 'Ġplaying', 'Ġsoccer', 'Ġin', 'Ġgreen...</td>\n",
       "      <td>0.747428</td>\n",
       "      <td>1.806856</td>\n",
       "      <td>3.792338</td>\n",
       "      <td>1.985483</td>\n",
       "      <td>0.391317</td>\n",
       "      <td>0.356111</td>\n",
       "    </tr>\n",
       "    <tr>\n",
       "      <th>2</th>\n",
       "      <td>2389</td>\n",
       "      <td>B</td>\n",
       "      <td>3</td>\n",
       "      <td>4</td>\n",
       "      <td>1</td>\n",
       "      <td>10</td>\n",
       "      <td>['4', 'Ġyoung', 'Ġboys', 'Ġin', 'Ġgreen', 'Ġje...</td>\n",
       "      <td>1.131532</td>\n",
       "      <td>0.224121</td>\n",
       "      <td>5.137746</td>\n",
       "      <td>4.913626</td>\n",
       "      <td>1.082172</td>\n",
       "      <td>0.049360</td>\n",
       "    </tr>\n",
       "    <tr>\n",
       "      <th>3</th>\n",
       "      <td>1969</td>\n",
       "      <td>B</td>\n",
       "      <td>1</td>\n",
       "      <td>1</td>\n",
       "      <td>2</td>\n",
       "      <td>8</td>\n",
       "      <td>['I', 'Ġhave', 'Ġkids', 'Ġplaying', 'Ġsoccer',...</td>\n",
       "      <td>0.532963</td>\n",
       "      <td>0.000008</td>\n",
       "      <td>2.645334</td>\n",
       "      <td>2.645327</td>\n",
       "      <td>0.532961</td>\n",
       "      <td>0.000002</td>\n",
       "    </tr>\n",
       "    <tr>\n",
       "      <th>4</th>\n",
       "      <td>1969</td>\n",
       "      <td>A</td>\n",
       "      <td>2</td>\n",
       "      <td>3</td>\n",
       "      <td>2</td>\n",
       "      <td>3</td>\n",
       "      <td>['s', 'Ġplaying', 'Ġsoccer']</td>\n",
       "      <td>1.618722</td>\n",
       "      <td>0.661115</td>\n",
       "      <td>11.880195</td>\n",
       "      <td>11.219079</td>\n",
       "      <td>1.528642</td>\n",
       "      <td>0.090079</td>\n",
       "    </tr>\n",
       "  </tbody>\n",
       "</table>\n",
       "</div>"
      ],
      "text/plain": [
       "   dialogue_id speaker  position_in_chain  round_number  chain_id  length  \\\n",
       "0         2389       A                  1             1         1       7   \n",
       "1         2389       A                  2             2         1       7   \n",
       "2         2389       B                  3             4         1      10   \n",
       "3         1969       B                  1             1         2       8   \n",
       "4         1969       A                  2             3         2       3   \n",
       "\n",
       "                                              tokens     xu_hs        mi  \\\n",
       "0  ['kids', 'Ġplaying', 'Ġsoccer', 'Ġin', 'Ġgreen...  0.747428 -0.000006   \n",
       "1  ['kids', 'Ġplaying', 'Ġsoccer', 'Ġin', 'Ġgreen...  0.747428  1.806856   \n",
       "2  ['4', 'Ġyoung', 'Ġboys', 'Ġin', 'Ġgreen', 'Ġje...  1.131532  0.224121   \n",
       "3  ['I', 'Ġhave', 'Ġkids', 'Ġplaying', 'Ġsoccer',...  0.532963  0.000008   \n",
       "4                       ['s', 'Ġplaying', 'Ġsoccer']  1.618722  0.661115   \n",
       "\n",
       "          hs        hsc    xu_hsc     xu_mi  \n",
       "0   3.792338   3.792345  0.747429 -0.000001  \n",
       "1   3.792338   1.985483  0.391317  0.356111  \n",
       "2   5.137746   4.913626  1.082172  0.049360  \n",
       "3   2.645334   2.645327  0.532961  0.000002  \n",
       "4  11.880195  11.219079  1.528642  0.090079  "
      ]
     },
     "execution_count": 61,
     "metadata": {},
     "output_type": "execute_result"
    }
   ],
   "source": [
    "chains.head()"
   ]
  },
  {
   "cell_type": "code",
   "execution_count": 40,
   "id": "14d0e5a8",
   "metadata": {},
   "outputs": [
    {
     "data": {
      "text/plain": [
       "Index(['dialogue_id', 'speaker', 'position_in_chain', 'round_number',\n",
       "       'chain_id', 'length', 'tokens', 'xu_hs', 'mi', 'hs', 'hsc', 'xu_hsc',\n",
       "       'xu_mi'],\n",
       "      dtype='object')"
      ]
     },
     "execution_count": 40,
     "metadata": {},
     "output_type": "execute_result"
    }
   ],
   "source": [
    "chains.keys()"
   ]
  },
  {
   "cell_type": "code",
   "execution_count": 41,
   "id": "d9c7bd2d",
   "metadata": {},
   "outputs": [
    {
     "data": {
      "text/plain": [
       "Index(['dialogue_id', 'speaker', 'position_in_dialogue', 'position_in_round',\n",
       "       'round_number', 'text', 'h', 'normalised_h', 'length', 'tokens_h',\n",
       "       'tokens', 'xu_h', 'mi_doc', 'xu_h_doc', 'normalised_h_doc'],\n",
       "      dtype='object')"
      ]
     },
     "execution_count": 41,
     "metadata": {},
     "output_type": "execute_result"
    }
   ],
   "source": [
    "dials.keys()"
   ]
  },
  {
   "cell_type": "code",
   "execution_count": 76,
   "id": "058dafb7",
   "metadata": {},
   "outputs": [
    {
     "data": {
      "text/plain": [
       "array([2389, 'A', 1, 1, 1, 7,\n",
       "       \"['kids', 'Ġplaying', 'Ġsoccer', 'Ġin', 'Ġgreen', 'Ġjerseys', '?']\",\n",
       "       0.7474278705465023, -6.194625581823488e-06, 3.792338460683823,\n",
       "       3.792344655309405, 0.7474290914385338, -1.2208920314726868e-06],\n",
       "      dtype=object)"
      ]
     },
     "execution_count": 76,
     "metadata": {},
     "output_type": "execute_result"
    }
   ],
   "source": [
    "chains.iloc[0, :].values"
   ]
  },
  {
   "cell_type": "code",
   "execution_count": 101,
   "id": "6eb3f675",
   "metadata": {},
   "outputs": [
    {
     "name": "stdout",
     "output_type": "stream",
     "text": [
      "2642\n"
     ]
    }
   ],
   "source": [
    "hs = []\n",
    "hsc = []\n",
    "not_found = 0\n",
    "found_multiple = defaultdict(list)\n",
    "\n",
    "new_df = []\n",
    "\n",
    "for i in range(len(chains)):\n",
    "    dial_id = chains.iloc[i, 0]\n",
    "    speaker = chains.iloc[i, 1]\n",
    "    round_number = chains.iloc[i, 3]\n",
    "    tokens = chains.iloc[i, 6]\n",
    "\n",
    "    utterance_in_dialogue = dials[\n",
    "        (dials['dialogue_id'] == dial_id)\n",
    "        & (dials['speaker'] == speaker)\n",
    "        & (dials['round_number'] == round_number)\n",
    "        & (dials['tokens'] == tokens)\n",
    "    ]\n",
    "    \n",
    "    if len(utterance_in_dialogue) == 0:\n",
    "        not_found += 1\n",
    "        continue\n",
    "        \n",
    "#     assert len(utterance_in_dialogue) == 1, f'Found {len(utterance_in_dialogue)} utterances'\n",
    "    \n",
    "    if len(utterance_in_dialogue) > 1:\n",
    "#         print(dial_id, round_number, speaker, tokens)\n",
    "#         print()\n",
    "#         print(utterance_in_dialogue)\n",
    "\n",
    "        for j, row in utterance_in_dialogue.iterrows():\n",
    "            \n",
    "            position_in_round = row['position_in_round']\n",
    "#             print(position_in_round)\n",
    "            if position_in_round in found_multiple[(dial_id, speaker, round_number, tokens)]:\n",
    "#                 print('Already processed')\n",
    "                continue\n",
    "            else:\n",
    "                found_multiple[(dial_id, speaker, round_number, tokens)].append(position_in_round)\n",
    "#                 print(f'This is position {position_in_round}')\n",
    "                utterance_in_dialogue = pd.DataFrame(row)\n",
    "                hs = row['normalised_h']\n",
    "                hsc = row['normalised_h_doc']\n",
    "    else:\n",
    "                \n",
    "#         print(dial_id, round_number, speaker, tokens)\n",
    "#         print()\n",
    "#         print(utterance_in_dialogue)\n",
    "#         break\n",
    "        \n",
    "        hs = float(list(utterance_in_dialogue['normalised_h'])[0])\n",
    "        hsc = float(list(utterance_in_dialogue['normalised_h_doc'])[0])\n",
    "    \n",
    "    new_row = list(chains.iloc[i, :].values) + [hs, hsc]\n",
    "    new_df.append(tuple(new_row))\n",
    "    \n",
    "print(not_found)"
   ]
  },
  {
   "cell_type": "code",
   "execution_count": 102,
   "id": "d906b874",
   "metadata": {},
   "outputs": [],
   "source": [
    "chains_dial = pd.DataFrame(new_df, columns=list(chains.keys()) + ['hs_dial', 'hsc_dial'])"
   ]
  },
  {
   "cell_type": "code",
   "execution_count": 88,
   "id": "098ce3a1",
   "metadata": {},
   "outputs": [
    {
     "data": {
      "text/plain": [
       "3.2162432926041737"
      ]
     },
     "execution_count": 88,
     "metadata": {},
     "output_type": "execute_result"
    }
   ],
   "source": [
    "float(chains_dial.iloc[0, -1].values)"
   ]
  },
  {
   "cell_type": "code",
   "execution_count": 103,
   "id": "0cdb68fd",
   "metadata": {},
   "outputs": [
    {
     "data": {
      "text/html": [
       "<div>\n",
       "<style scoped>\n",
       "    .dataframe tbody tr th:only-of-type {\n",
       "        vertical-align: middle;\n",
       "    }\n",
       "\n",
       "    .dataframe tbody tr th {\n",
       "        vertical-align: top;\n",
       "    }\n",
       "\n",
       "    .dataframe thead th {\n",
       "        text-align: right;\n",
       "    }\n",
       "</style>\n",
       "<table border=\"1\" class=\"dataframe\">\n",
       "  <thead>\n",
       "    <tr style=\"text-align: right;\">\n",
       "      <th></th>\n",
       "      <th>dialogue_id</th>\n",
       "      <th>speaker</th>\n",
       "      <th>position_in_chain</th>\n",
       "      <th>round_number</th>\n",
       "      <th>chain_id</th>\n",
       "      <th>length</th>\n",
       "      <th>tokens</th>\n",
       "      <th>xu_hs</th>\n",
       "      <th>mi</th>\n",
       "      <th>hs</th>\n",
       "      <th>hsc</th>\n",
       "      <th>xu_hsc</th>\n",
       "      <th>xu_mi</th>\n",
       "      <th>hs_dial</th>\n",
       "      <th>hsc_dial</th>\n",
       "    </tr>\n",
       "  </thead>\n",
       "  <tbody>\n",
       "    <tr>\n",
       "      <th>0</th>\n",
       "      <td>2389</td>\n",
       "      <td>A</td>\n",
       "      <td>1</td>\n",
       "      <td>1</td>\n",
       "      <td>1</td>\n",
       "      <td>7</td>\n",
       "      <td>['kids', 'Ġplaying', 'Ġsoccer', 'Ġin', 'Ġgreen...</td>\n",
       "      <td>0.747428</td>\n",
       "      <td>-0.000006</td>\n",
       "      <td>3.792338</td>\n",
       "      <td>3.792345</td>\n",
       "      <td>0.747429</td>\n",
       "      <td>-0.000001</td>\n",
       "      <td>3.792338</td>\n",
       "      <td>3.216243</td>\n",
       "    </tr>\n",
       "    <tr>\n",
       "      <th>1</th>\n",
       "      <td>2389</td>\n",
       "      <td>A</td>\n",
       "      <td>2</td>\n",
       "      <td>2</td>\n",
       "      <td>1</td>\n",
       "      <td>7</td>\n",
       "      <td>['kids', 'Ġplaying', 'Ġsoccer', 'Ġin', 'Ġgreen...</td>\n",
       "      <td>0.747428</td>\n",
       "      <td>1.806856</td>\n",
       "      <td>3.792338</td>\n",
       "      <td>1.985483</td>\n",
       "      <td>0.391317</td>\n",
       "      <td>0.356111</td>\n",
       "      <td>3.792338</td>\n",
       "      <td>2.197700</td>\n",
       "    </tr>\n",
       "    <tr>\n",
       "      <th>2</th>\n",
       "      <td>2389</td>\n",
       "      <td>B</td>\n",
       "      <td>3</td>\n",
       "      <td>4</td>\n",
       "      <td>1</td>\n",
       "      <td>10</td>\n",
       "      <td>['4', 'Ġyoung', 'Ġboys', 'Ġin', 'Ġgreen', 'Ġje...</td>\n",
       "      <td>1.131532</td>\n",
       "      <td>0.224121</td>\n",
       "      <td>5.137746</td>\n",
       "      <td>4.913626</td>\n",
       "      <td>1.082172</td>\n",
       "      <td>0.049360</td>\n",
       "      <td>5.137746</td>\n",
       "      <td>4.661917</td>\n",
       "    </tr>\n",
       "    <tr>\n",
       "      <th>3</th>\n",
       "      <td>1969</td>\n",
       "      <td>B</td>\n",
       "      <td>1</td>\n",
       "      <td>1</td>\n",
       "      <td>2</td>\n",
       "      <td>8</td>\n",
       "      <td>['I', 'Ġhave', 'Ġkids', 'Ġplaying', 'Ġsoccer',...</td>\n",
       "      <td>0.532963</td>\n",
       "      <td>0.000008</td>\n",
       "      <td>2.645334</td>\n",
       "      <td>2.645327</td>\n",
       "      <td>0.532961</td>\n",
       "      <td>0.000002</td>\n",
       "      <td>2.645336</td>\n",
       "      <td>2.645330</td>\n",
       "    </tr>\n",
       "    <tr>\n",
       "      <th>4</th>\n",
       "      <td>1969</td>\n",
       "      <td>A</td>\n",
       "      <td>2</td>\n",
       "      <td>3</td>\n",
       "      <td>2</td>\n",
       "      <td>3</td>\n",
       "      <td>['s', 'Ġplaying', 'Ġsoccer']</td>\n",
       "      <td>1.618722</td>\n",
       "      <td>0.661115</td>\n",
       "      <td>11.880195</td>\n",
       "      <td>11.219079</td>\n",
       "      <td>1.528642</td>\n",
       "      <td>0.090079</td>\n",
       "      <td>11.880195</td>\n",
       "      <td>12.539207</td>\n",
       "    </tr>\n",
       "  </tbody>\n",
       "</table>\n",
       "</div>"
      ],
      "text/plain": [
       "   dialogue_id speaker  position_in_chain  round_number  chain_id  length  \\\n",
       "0         2389       A                  1             1         1       7   \n",
       "1         2389       A                  2             2         1       7   \n",
       "2         2389       B                  3             4         1      10   \n",
       "3         1969       B                  1             1         2       8   \n",
       "4         1969       A                  2             3         2       3   \n",
       "\n",
       "                                              tokens     xu_hs        mi  \\\n",
       "0  ['kids', 'Ġplaying', 'Ġsoccer', 'Ġin', 'Ġgreen...  0.747428 -0.000006   \n",
       "1  ['kids', 'Ġplaying', 'Ġsoccer', 'Ġin', 'Ġgreen...  0.747428  1.806856   \n",
       "2  ['4', 'Ġyoung', 'Ġboys', 'Ġin', 'Ġgreen', 'Ġje...  1.131532  0.224121   \n",
       "3  ['I', 'Ġhave', 'Ġkids', 'Ġplaying', 'Ġsoccer',...  0.532963  0.000008   \n",
       "4                       ['s', 'Ġplaying', 'Ġsoccer']  1.618722  0.661115   \n",
       "\n",
       "          hs        hsc    xu_hsc     xu_mi    hs_dial   hsc_dial  \n",
       "0   3.792338   3.792345  0.747429 -0.000001   3.792338   3.216243  \n",
       "1   3.792338   1.985483  0.391317  0.356111   3.792338   2.197700  \n",
       "2   5.137746   4.913626  1.082172  0.049360   5.137746   4.661917  \n",
       "3   2.645334   2.645327  0.532961  0.000002   2.645336   2.645330  \n",
       "4  11.880195  11.219079  1.528642  0.090079  11.880195  12.539207  "
      ]
     },
     "execution_count": 103,
     "metadata": {},
     "output_type": "execute_result"
    }
   ],
   "source": [
    "chains_dial.head()"
   ]
  },
  {
   "cell_type": "code",
   "execution_count": 109,
   "id": "9e29b8bc",
   "metadata": {},
   "outputs": [],
   "source": [
    "surprisal_by_len = defaultdict(list)\n",
    "for i in range(len(chains_dial)):\n",
    "    surprisal_by_len[\n",
    "        chains_dial.iloc[i, :]['length']\n",
    "    ].append(\n",
    "        chains_dial.iloc[i, :]['hs_dial']\n",
    "    )\n",
    "\n",
    "    surprisal_by_len[\n",
    "        chains_dial.iloc[i, :]['length']\n",
    "    ].append(\n",
    "        chains_dial.iloc[i, :]['hsc_dial']\n",
    "    )\n",
    "    \n",
    "mean_surprisal_by_len = {}\n",
    "for l in surprisal_by_len:\n",
    "    mean_surprisal_by_len[l] = np.mean(surprisal_by_len[l])\n",
    "\n",
    "xu_hs_dial = []\n",
    "xu_hsc_dial = []\n",
    "for index, row in chains_dial.iterrows():\n",
    "    try:\n",
    "        xu_hs_dial.append(row['hs_dial'] / mean_surprisal_by_len[row['length']])\n",
    "    except KeyError:\n",
    "        xu_hs_dial.append(np.nan)\n",
    "    try:\n",
    "        xu_hsc_dial.append(row['hsc_dial'] / mean_surprisal_by_len[row['length']])\n",
    "    except KeyError:\n",
    "        xu_hsc_dial.append(np.nan)\n",
    "        \n",
    "chains_dial.loc[:, 'xu_hs_dial'] = xu_hs_dial\n",
    "chains_dial.loc[:, 'xu_hsc_dial'] = xu_hsc_dial\n",
    "\n",
    "df_new = chains_dial.copy()\n",
    "\n",
    "\n",
    "mi_dial = []\n",
    "xu_mi_dial = []\n",
    "nans = 0\n",
    "for index, row in chains_dial.iterrows():\n",
    "    try:\n",
    "        mi_dial.append(row['hs_dial'] - row['hsc_dial'])\n",
    "    except KeyError:\n",
    "        mi_dial.append(np.nan)\n",
    "    try:\n",
    "        xu_mi_dial.append(row['xu_hs_dial'] - row['xu_hsc_dial'])\n",
    "    except KeyError:\n",
    "        xu_mi_dial.append(np.nan)\n",
    "\n",
    "df_new.loc[:, 'mi_dial'] = mi_dial\n",
    "df_new.loc[:, 'hs_dial'] = chains_dial['hs_dial'].values\n",
    "df_new.loc[:, 'hsc_dial'] = chains_dial['hsc_dial'].values\n",
    "df_new.loc[:, 'xu_hs_dial'] = chains_dial['xu_hs_dial'].values\n",
    "df_new.loc[:, 'xu_hsc_dial'] = chains_dial['xu_hsc_dial'].values\n",
    "df_new.loc[:, 'xu_mi_dial'] = xu_mi_dial\n"
   ]
  },
  {
   "cell_type": "code",
   "execution_count": 110,
   "id": "4304fdec",
   "metadata": {},
   "outputs": [
    {
     "data": {
      "text/html": [
       "<div>\n",
       "<style scoped>\n",
       "    .dataframe tbody tr th:only-of-type {\n",
       "        vertical-align: middle;\n",
       "    }\n",
       "\n",
       "    .dataframe tbody tr th {\n",
       "        vertical-align: top;\n",
       "    }\n",
       "\n",
       "    .dataframe thead th {\n",
       "        text-align: right;\n",
       "    }\n",
       "</style>\n",
       "<table border=\"1\" class=\"dataframe\">\n",
       "  <thead>\n",
       "    <tr style=\"text-align: right;\">\n",
       "      <th></th>\n",
       "      <th>dialogue_id</th>\n",
       "      <th>speaker</th>\n",
       "      <th>position_in_chain</th>\n",
       "      <th>round_number</th>\n",
       "      <th>chain_id</th>\n",
       "      <th>length</th>\n",
       "      <th>tokens</th>\n",
       "      <th>xu_hs</th>\n",
       "      <th>mi</th>\n",
       "      <th>hs</th>\n",
       "      <th>hsc</th>\n",
       "      <th>xu_hsc</th>\n",
       "      <th>xu_mi</th>\n",
       "      <th>hs_dial</th>\n",
       "      <th>hsc_dial</th>\n",
       "      <th>xu_hs_dial</th>\n",
       "      <th>xu_hsc_dial</th>\n",
       "      <th>mi_dial</th>\n",
       "      <th>xu_mi_dial</th>\n",
       "    </tr>\n",
       "  </thead>\n",
       "  <tbody>\n",
       "    <tr>\n",
       "      <th>0</th>\n",
       "      <td>2389</td>\n",
       "      <td>A</td>\n",
       "      <td>1</td>\n",
       "      <td>1</td>\n",
       "      <td>1</td>\n",
       "      <td>7</td>\n",
       "      <td>['kids', 'Ġplaying', 'Ġsoccer', 'Ġin', 'Ġgreen...</td>\n",
       "      <td>0.747428</td>\n",
       "      <td>-0.000006</td>\n",
       "      <td>3.792338</td>\n",
       "      <td>3.792345</td>\n",
       "      <td>0.747429</td>\n",
       "      <td>-0.000001</td>\n",
       "      <td>3.792338</td>\n",
       "      <td>3.216243</td>\n",
       "      <td>0.762816</td>\n",
       "      <td>0.646936</td>\n",
       "      <td>0.576095</td>\n",
       "      <td>0.115879</td>\n",
       "    </tr>\n",
       "    <tr>\n",
       "      <th>1</th>\n",
       "      <td>2389</td>\n",
       "      <td>A</td>\n",
       "      <td>2</td>\n",
       "      <td>2</td>\n",
       "      <td>1</td>\n",
       "      <td>7</td>\n",
       "      <td>['kids', 'Ġplaying', 'Ġsoccer', 'Ġin', 'Ġgreen...</td>\n",
       "      <td>0.747428</td>\n",
       "      <td>1.806856</td>\n",
       "      <td>3.792338</td>\n",
       "      <td>1.985483</td>\n",
       "      <td>0.391317</td>\n",
       "      <td>0.356111</td>\n",
       "      <td>3.792338</td>\n",
       "      <td>2.197700</td>\n",
       "      <td>0.762816</td>\n",
       "      <td>0.442060</td>\n",
       "      <td>1.594638</td>\n",
       "      <td>0.320756</td>\n",
       "    </tr>\n",
       "    <tr>\n",
       "      <th>2</th>\n",
       "      <td>2389</td>\n",
       "      <td>B</td>\n",
       "      <td>3</td>\n",
       "      <td>4</td>\n",
       "      <td>1</td>\n",
       "      <td>10</td>\n",
       "      <td>['4', 'Ġyoung', 'Ġboys', 'Ġin', 'Ġgreen', 'Ġje...</td>\n",
       "      <td>1.131532</td>\n",
       "      <td>0.224121</td>\n",
       "      <td>5.137746</td>\n",
       "      <td>4.913626</td>\n",
       "      <td>1.082172</td>\n",
       "      <td>0.049360</td>\n",
       "      <td>5.137746</td>\n",
       "      <td>4.661917</td>\n",
       "      <td>1.153996</td>\n",
       "      <td>1.047120</td>\n",
       "      <td>0.475830</td>\n",
       "      <td>0.106877</td>\n",
       "    </tr>\n",
       "    <tr>\n",
       "      <th>3</th>\n",
       "      <td>1969</td>\n",
       "      <td>B</td>\n",
       "      <td>1</td>\n",
       "      <td>1</td>\n",
       "      <td>2</td>\n",
       "      <td>8</td>\n",
       "      <td>['I', 'Ġhave', 'Ġkids', 'Ġplaying', 'Ġsoccer',...</td>\n",
       "      <td>0.532963</td>\n",
       "      <td>0.000008</td>\n",
       "      <td>2.645334</td>\n",
       "      <td>2.645327</td>\n",
       "      <td>0.532961</td>\n",
       "      <td>0.000002</td>\n",
       "      <td>2.645336</td>\n",
       "      <td>2.645330</td>\n",
       "      <td>0.541597</td>\n",
       "      <td>0.541596</td>\n",
       "      <td>0.000006</td>\n",
       "      <td>0.000001</td>\n",
       "    </tr>\n",
       "    <tr>\n",
       "      <th>4</th>\n",
       "      <td>1969</td>\n",
       "      <td>A</td>\n",
       "      <td>2</td>\n",
       "      <td>3</td>\n",
       "      <td>2</td>\n",
       "      <td>3</td>\n",
       "      <td>['s', 'Ġplaying', 'Ġsoccer']</td>\n",
       "      <td>1.618722</td>\n",
       "      <td>0.661115</td>\n",
       "      <td>11.880195</td>\n",
       "      <td>11.219079</td>\n",
       "      <td>1.528642</td>\n",
       "      <td>0.090079</td>\n",
       "      <td>11.880195</td>\n",
       "      <td>12.539207</td>\n",
       "      <td>1.704224</td>\n",
       "      <td>1.798760</td>\n",
       "      <td>-0.659012</td>\n",
       "      <td>-0.094536</td>\n",
       "    </tr>\n",
       "  </tbody>\n",
       "</table>\n",
       "</div>"
      ],
      "text/plain": [
       "   dialogue_id speaker  position_in_chain  round_number  chain_id  length  \\\n",
       "0         2389       A                  1             1         1       7   \n",
       "1         2389       A                  2             2         1       7   \n",
       "2         2389       B                  3             4         1      10   \n",
       "3         1969       B                  1             1         2       8   \n",
       "4         1969       A                  2             3         2       3   \n",
       "\n",
       "                                              tokens     xu_hs        mi  \\\n",
       "0  ['kids', 'Ġplaying', 'Ġsoccer', 'Ġin', 'Ġgreen...  0.747428 -0.000006   \n",
       "1  ['kids', 'Ġplaying', 'Ġsoccer', 'Ġin', 'Ġgreen...  0.747428  1.806856   \n",
       "2  ['4', 'Ġyoung', 'Ġboys', 'Ġin', 'Ġgreen', 'Ġje...  1.131532  0.224121   \n",
       "3  ['I', 'Ġhave', 'Ġkids', 'Ġplaying', 'Ġsoccer',...  0.532963  0.000008   \n",
       "4                       ['s', 'Ġplaying', 'Ġsoccer']  1.618722  0.661115   \n",
       "\n",
       "          hs        hsc    xu_hsc     xu_mi    hs_dial   hsc_dial  xu_hs_dial  \\\n",
       "0   3.792338   3.792345  0.747429 -0.000001   3.792338   3.216243    0.762816   \n",
       "1   3.792338   1.985483  0.391317  0.356111   3.792338   2.197700    0.762816   \n",
       "2   5.137746   4.913626  1.082172  0.049360   5.137746   4.661917    1.153996   \n",
       "3   2.645334   2.645327  0.532961  0.000002   2.645336   2.645330    0.541597   \n",
       "4  11.880195  11.219079  1.528642  0.090079  11.880195  12.539207    1.704224   \n",
       "\n",
       "   xu_hsc_dial   mi_dial  xu_mi_dial  \n",
       "0     0.646936  0.576095    0.115879  \n",
       "1     0.442060  1.594638    0.320756  \n",
       "2     1.047120  0.475830    0.106877  \n",
       "3     0.541596  0.000006    0.000001  \n",
       "4     1.798760 -0.659012   -0.094536  "
      ]
     },
     "execution_count": 110,
     "metadata": {},
     "output_type": "execute_result"
    }
   ],
   "source": [
    "df_new.head()"
   ]
  },
  {
   "cell_type": "code",
   "execution_count": 111,
   "id": "028be6ff",
   "metadata": {},
   "outputs": [],
   "source": [
    "df_new.to_csv('/Users/mario/code/erp/chains_output/chains_mi_dial.csv')"
   ]
  },
  {
   "cell_type": "code",
   "execution_count": null,
   "id": "8a69ed78",
   "metadata": {},
   "outputs": [],
   "source": []
  }
 ],
 "metadata": {
  "kernelspec": {
   "display_name": "Python 3 (ipykernel)",
   "language": "python",
   "name": "python3"
  },
  "language_info": {
   "codemirror_mode": {
    "name": "ipython",
    "version": 3
   },
   "file_extension": ".py",
   "mimetype": "text/x-python",
   "name": "python",
   "nbconvert_exporter": "python",
   "pygments_lexer": "ipython3",
   "version": "3.8.9"
  }
 },
 "nbformat": 4,
 "nbformat_minor": 5
}