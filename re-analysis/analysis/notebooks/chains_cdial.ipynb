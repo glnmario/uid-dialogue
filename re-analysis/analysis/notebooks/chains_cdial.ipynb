{
 "cells": [
  {
   "cell_type": "code",
   "execution_count": 44,
   "id": "c94e47e1",
   "metadata": {
    "pycharm": {
     "name": "#%%\n"
    }
   },
   "outputs": [],
   "source": [
    "import pandas as pd\n",
    "import numpy as np\n",
    "from matplotlib import pyplot as plt\n",
    "import seaborn as sns\n",
    "import matplotlib.ticker as ticker\n",
    "from collections import defaultdict\n",
    "\n",
    "sns.set_style(\"whitegrid\")\n",
    "sns.set(rc={'figure.figsize':(10,5)})"
   ]
  },
  {
   "cell_type": "code",
   "execution_count": 47,
   "id": "cfef2464",
   "metadata": {
    "pycharm": {
     "name": "#%%\n"
    }
   },
   "outputs": [],
   "source": [
    "chains = pd.read_csv('/Users/mario/code/uid-dialogue/re-analysis/results/pbchains_gpt2-ft_all.csv')\n",
    "dials = pd.read_csv('/Users/mario/code/uid-dialogue/re-analysis/results/pb_gpt2-ft_all.csv')"
   ]
  },
  {
   "cell_type": "code",
   "execution_count": 48,
   "id": "80bc6e6e",
   "metadata": {
    "pycharm": {
     "name": "#%%\n"
    }
   },
   "outputs": [
    {
     "data": {
      "text/plain": "   dialogue_id speaker  position_in_chain  round_number  \\\n0         2389       A                  1             1   \n1         2389       A                  2             2   \n2         2389       B                  3             4   \n3         1969       B                  1             1   \n4         1969       A                  2             3   \n\n                                                text  chain_id          h  \\\n0              kids playing soccer in green jerseys?         1  26.546213   \n1              kids playing soccer in green jerseys?         1  26.546213   \n2  4 young boys in green jersey shirts playing so...         1  51.377193   \n3       I have kids playing soccer in green uniforms         2  21.162553   \n4                                   s playing soccer         2  35.640477   \n\n   normalised_h  length                                           tokens_h  \\\n0      3.792316       7  [-12.547093391418457, -1.763575792312622, -2.6...   \n1      3.792316       7  [-12.547093391418457, -1.763575792312622, -2.6...   \n2      5.137719      10  [-8.356040954589844, -13.088624954223633, -1.7...   \n3      2.645319       8  [-2.672774076461792, -0.6501073837280273, -10....   \n4     11.880159       3  [-8.807174682617188, -17.692106246948242, -9.1...   \n\n                                              tokens      xu_h  mi_chains_id  \\\n0  ['kids', 'Ġplaying', 'Ġsoccer', 'Ġin', 'Ġgreen...  0.704599      0.000000   \n1  ['kids', 'Ġplaying', 'Ġsoccer', 'Ġin', 'Ġgreen...  0.704599      1.806862   \n2  ['4', 'Ġyoung', 'Ġboys', 'Ġin', 'Ġgreen', 'Ġje...  1.071240      0.224114   \n3  ['I', 'Ġhave', 'Ġkids', 'Ġplaying', 'Ġsoccer',...  0.500980      0.000000   \n4                       ['s', 'Ġplaying', 'Ġsoccer']  1.543971      0.661086   \n\n   xu_h_chains_id  normalised_h_chains_id  \n0        0.795797                3.792316  \n1        0.416637                1.985454  \n2        1.146712                4.913605  \n3        0.569306                2.645319  \n4        1.606421               11.219073  ",
      "text/html": "<div>\n<style scoped>\n    .dataframe tbody tr th:only-of-type {\n        vertical-align: middle;\n    }\n\n    .dataframe tbody tr th {\n        vertical-align: top;\n    }\n\n    .dataframe thead th {\n        text-align: right;\n    }\n</style>\n<table border=\"1\" class=\"dataframe\">\n  <thead>\n    <tr style=\"text-align: right;\">\n      <th></th>\n      <th>dialogue_id</th>\n      <th>speaker</th>\n      <th>position_in_chain</th>\n      <th>round_number</th>\n      <th>text</th>\n      <th>chain_id</th>\n      <th>h</th>\n      <th>normalised_h</th>\n      <th>length</th>\n      <th>tokens_h</th>\n      <th>tokens</th>\n      <th>xu_h</th>\n      <th>mi_chains_id</th>\n      <th>xu_h_chains_id</th>\n      <th>normalised_h_chains_id</th>\n    </tr>\n  </thead>\n  <tbody>\n    <tr>\n      <th>0</th>\n      <td>2389</td>\n      <td>A</td>\n      <td>1</td>\n      <td>1</td>\n      <td>kids playing soccer in green jerseys?</td>\n      <td>1</td>\n      <td>26.546213</td>\n      <td>3.792316</td>\n      <td>7</td>\n      <td>[-12.547093391418457, -1.763575792312622, -2.6...</td>\n      <td>['kids', 'Ġplaying', 'Ġsoccer', 'Ġin', 'Ġgreen...</td>\n      <td>0.704599</td>\n      <td>0.000000</td>\n      <td>0.795797</td>\n      <td>3.792316</td>\n    </tr>\n    <tr>\n      <th>1</th>\n      <td>2389</td>\n      <td>A</td>\n      <td>2</td>\n      <td>2</td>\n      <td>kids playing soccer in green jerseys?</td>\n      <td>1</td>\n      <td>26.546213</td>\n      <td>3.792316</td>\n      <td>7</td>\n      <td>[-12.547093391418457, -1.763575792312622, -2.6...</td>\n      <td>['kids', 'Ġplaying', 'Ġsoccer', 'Ġin', 'Ġgreen...</td>\n      <td>0.704599</td>\n      <td>1.806862</td>\n      <td>0.416637</td>\n      <td>1.985454</td>\n    </tr>\n    <tr>\n      <th>2</th>\n      <td>2389</td>\n      <td>B</td>\n      <td>3</td>\n      <td>4</td>\n      <td>4 young boys in green jersey shirts playing so...</td>\n      <td>1</td>\n      <td>51.377193</td>\n      <td>5.137719</td>\n      <td>10</td>\n      <td>[-8.356040954589844, -13.088624954223633, -1.7...</td>\n      <td>['4', 'Ġyoung', 'Ġboys', 'Ġin', 'Ġgreen', 'Ġje...</td>\n      <td>1.071240</td>\n      <td>0.224114</td>\n      <td>1.146712</td>\n      <td>4.913605</td>\n    </tr>\n    <tr>\n      <th>3</th>\n      <td>1969</td>\n      <td>B</td>\n      <td>1</td>\n      <td>1</td>\n      <td>I have kids playing soccer in green uniforms</td>\n      <td>2</td>\n      <td>21.162553</td>\n      <td>2.645319</td>\n      <td>8</td>\n      <td>[-2.672774076461792, -0.6501073837280273, -10....</td>\n      <td>['I', 'Ġhave', 'Ġkids', 'Ġplaying', 'Ġsoccer',...</td>\n      <td>0.500980</td>\n      <td>0.000000</td>\n      <td>0.569306</td>\n      <td>2.645319</td>\n    </tr>\n    <tr>\n      <th>4</th>\n      <td>1969</td>\n      <td>A</td>\n      <td>2</td>\n      <td>3</td>\n      <td>s playing soccer</td>\n      <td>2</td>\n      <td>35.640477</td>\n      <td>11.880159</td>\n      <td>3</td>\n      <td>[-8.807174682617188, -17.692106246948242, -9.1...</td>\n      <td>['s', 'Ġplaying', 'Ġsoccer']</td>\n      <td>1.543971</td>\n      <td>0.661086</td>\n      <td>1.606421</td>\n      <td>11.219073</td>\n    </tr>\n  </tbody>\n</table>\n</div>"
     },
     "execution_count": 48,
     "metadata": {},
     "output_type": "execute_result"
    }
   ],
   "source": [
    "chains.head()"
   ]
  },
  {
   "cell_type": "code",
   "execution_count": 49,
   "id": "14d0e5a8",
   "metadata": {
    "pycharm": {
     "name": "#%%\n"
    }
   },
   "outputs": [
    {
     "data": {
      "text/plain": "Index(['dialogue_id', 'speaker', 'position_in_chain', 'round_number', 'text',\n       'chain_id', 'h', 'normalised_h', 'length', 'tokens_h', 'tokens', 'xu_h',\n       'mi_chains_id', 'xu_h_chains_id', 'normalised_h_chains_id'],\n      dtype='object')"
     },
     "execution_count": 49,
     "metadata": {},
     "output_type": "execute_result"
    }
   ],
   "source": [
    "chains.keys()"
   ]
  },
  {
   "cell_type": "code",
   "execution_count": 50,
   "id": "d9c7bd2d",
   "metadata": {
    "pycharm": {
     "name": "#%%\n"
    }
   },
   "outputs": [
    {
     "data": {
      "text/plain": "Index(['dialogue_id', 'speaker', 'position_in_dialogue', 'position_in_round',\n       'round_number', 'text', 'h', 'normalised_h', 'length', 'tokens_h',\n       'tokens', 'xu_h', 'mi_dialogue_id', 'xu_h_dialogue_id',\n       'normalised_h_dialogue_id', 'mi_round_number', 'xu_h_round_number',\n       'normalised_h_round_number'],\n      dtype='object')"
     },
     "execution_count": 50,
     "metadata": {},
     "output_type": "execute_result"
    }
   ],
   "source": [
    "dials.keys()"
   ]
  },
  {
   "cell_type": "code",
   "execution_count": 51,
   "id": "058dafb7",
   "metadata": {
    "pycharm": {
     "name": "#%%\n"
    }
   },
   "outputs": [
    {
     "data": {
      "text/plain": "array([2389, 'A', 1, 1, 'kids playing soccer in green jerseys?', 1,\n       26.54621341824532, 3.792316202606474, 7,\n       '[-12.547093391418457, -1.763575792312622, -2.6370131969451904, -2.9940226078033447, -0.4667718708515167, -3.709010124206543, -2.4287264347076416]',\n       \"['kids', 'Ġplaying', 'Ġsoccer', 'Ġin', 'Ġgreen', 'Ġjerseys', '?']\",\n       0.7045993981202658, 0.0, 0.7957971834169624, 3.792316202606474],\n      dtype=object)"
     },
     "execution_count": 51,
     "metadata": {},
     "output_type": "execute_result"
    }
   ],
   "source": [
    "chains.iloc[0, :].values"
   ]
  },
  {
   "cell_type": "code",
   "execution_count": 52,
   "outputs": [
    {
     "data": {
      "text/plain": "       dialogue_id speaker  position_in_chain  round_number  \\\n0             2389       A                  1             1   \n1             2389       A                  2             2   \n2             2389       B                  3             4   \n3             1969       B                  1             1   \n4             1969       A                  2             3   \n...            ...     ...                ...           ...   \n15342         2408       A                  1             1   \n15343         2408       A                  2             2   \n15344         2408       B                  3             4   \n15345         2408       B                  1             2   \n15346         2408       A                  2             4   \n\n                                                    text  chain_id          h  \\\n0                  kids playing soccer in green jerseys?         1  26.546213   \n1                  kids playing soccer in green jerseys?         1  26.546213   \n2      4 young boys in green jersey shirts playing so...         1  51.377193   \n3           I have kids playing soccer in green uniforms         2  21.162553   \n4                                       s playing soccer         2  35.640477   \n...                                                  ...       ...        ...   \n15342  I have a boy in red laying down holding a winn...     18054  54.494791   \n15343                I have a boy reading winnie the poo     18054  43.152194   \n15344                     A boy reading winnie the pooh?     18054  26.679221   \n15345  I have 2 girls and a boy on a bed playing a vi...     18059  39.426369   \n15346                     the boy and 2 girls on the bed     18059  38.925607   \n\n       normalised_h  length  \\\n0          3.792316       7   \n1          3.792316       7   \n2          5.137719      10   \n3          2.645319       8   \n4         11.880159       3   \n...             ...     ...   \n15342      3.405924      16   \n15343      4.315219      10   \n15344      2.964358       9   \n15345      2.816169      14   \n15346      4.865701       8   \n\n                                                tokens_h  \\\n0      [-12.547093391418457, -1.763575792312622, -2.6...   \n1      [-12.547093391418457, -1.763575792312622, -2.6...   \n2      [-8.356040954589844, -13.088624954223633, -1.7...   \n3      [-2.672774076461792, -0.6501073837280273, -10....   \n4      [-8.807174682617188, -17.692106246948242, -9.1...   \n...                                                  ...   \n15342  [-2.672774076461792, -0.6501073837280273, -0.9...   \n15343  [-2.672774076461792, -0.6501073837280273, -0.9...   \n15344  [-4.9017653465271, -5.930842399597168, -8.3123...   \n15345  [-2.672774076461792, -0.6501073837280273, -6.7...   \n15346  [-6.189882755279541, -5.621294975280762, -5.49...   \n\n                                                  tokens      xu_h  \\\n0      ['kids', 'Ġplaying', 'Ġsoccer', 'Ġin', 'Ġgreen...  0.704599   \n1      ['kids', 'Ġplaying', 'Ġsoccer', 'Ġin', 'Ġgreen...  0.704599   \n2      ['4', 'Ġyoung', 'Ġboys', 'Ġin', 'Ġgreen', 'Ġje...  1.071240   \n3      ['I', 'Ġhave', 'Ġkids', 'Ġplaying', 'Ġsoccer',...  0.500980   \n4                           ['s', 'Ġplaying', 'Ġsoccer']  1.543971   \n...                                                  ...       ...   \n15342  ['I', 'Ġhave', 'Ġa', 'Ġboy', 'Ġin', 'Ġred', 'Ġ...  0.804264   \n15343  ['I', 'Ġhave', 'Ġa', 'Ġboy', 'Ġreading', 'Ġwin...  0.899744   \n15344  ['A', 'Ġboy', 'Ġreading', 'Ġwin', 'nie', 'Ġthe...  0.594346   \n15345  ['I', 'Ġhave', 'Ġ2', 'Ġgirls', 'Ġand', 'Ġa', '...  0.647653   \n15346  ['the', 'Ġboy', 'Ġand', 'Ġ2', 'Ġgirls', 'Ġon',...  0.921484   \n\n       mi_chains_id  xu_h_chains_id  normalised_h_chains_id  \n0          0.000000        0.795797                3.792316  \n1          1.806862        0.416637                1.985454  \n2          0.224114        1.146712                4.913605  \n3          0.000000        0.569306                2.645319  \n4          0.661086        1.606421               11.219073  \n...             ...             ...                     ...  \n15342      0.000000        0.864947                3.405924  \n15343      1.531285        0.649700                2.783935  \n15344      0.193344        0.623766                2.771014  \n15345      0.000000        0.701579                2.816169  \n15346      0.860410        0.861989                4.005291  \n\n[15347 rows x 15 columns]",
      "text/html": "<div>\n<style scoped>\n    .dataframe tbody tr th:only-of-type {\n        vertical-align: middle;\n    }\n\n    .dataframe tbody tr th {\n        vertical-align: top;\n    }\n\n    .dataframe thead th {\n        text-align: right;\n    }\n</style>\n<table border=\"1\" class=\"dataframe\">\n  <thead>\n    <tr style=\"text-align: right;\">\n      <th></th>\n      <th>dialogue_id</th>\n      <th>speaker</th>\n      <th>position_in_chain</th>\n      <th>round_number</th>\n      <th>text</th>\n      <th>chain_id</th>\n      <th>h</th>\n      <th>normalised_h</th>\n      <th>length</th>\n      <th>tokens_h</th>\n      <th>tokens</th>\n      <th>xu_h</th>\n      <th>mi_chains_id</th>\n      <th>xu_h_chains_id</th>\n      <th>normalised_h_chains_id</th>\n    </tr>\n  </thead>\n  <tbody>\n    <tr>\n      <th>0</th>\n      <td>2389</td>\n      <td>A</td>\n      <td>1</td>\n      <td>1</td>\n      <td>kids playing soccer in green jerseys?</td>\n      <td>1</td>\n      <td>26.546213</td>\n      <td>3.792316</td>\n      <td>7</td>\n      <td>[-12.547093391418457, -1.763575792312622, -2.6...</td>\n      <td>['kids', 'Ġplaying', 'Ġsoccer', 'Ġin', 'Ġgreen...</td>\n      <td>0.704599</td>\n      <td>0.000000</td>\n      <td>0.795797</td>\n      <td>3.792316</td>\n    </tr>\n    <tr>\n      <th>1</th>\n      <td>2389</td>\n      <td>A</td>\n      <td>2</td>\n      <td>2</td>\n      <td>kids playing soccer in green jerseys?</td>\n      <td>1</td>\n      <td>26.546213</td>\n      <td>3.792316</td>\n      <td>7</td>\n      <td>[-12.547093391418457, -1.763575792312622, -2.6...</td>\n      <td>['kids', 'Ġplaying', 'Ġsoccer', 'Ġin', 'Ġgreen...</td>\n      <td>0.704599</td>\n      <td>1.806862</td>\n      <td>0.416637</td>\n      <td>1.985454</td>\n    </tr>\n    <tr>\n      <th>2</th>\n      <td>2389</td>\n      <td>B</td>\n      <td>3</td>\n      <td>4</td>\n      <td>4 young boys in green jersey shirts playing so...</td>\n      <td>1</td>\n      <td>51.377193</td>\n      <td>5.137719</td>\n      <td>10</td>\n      <td>[-8.356040954589844, -13.088624954223633, -1.7...</td>\n      <td>['4', 'Ġyoung', 'Ġboys', 'Ġin', 'Ġgreen', 'Ġje...</td>\n      <td>1.071240</td>\n      <td>0.224114</td>\n      <td>1.146712</td>\n      <td>4.913605</td>\n    </tr>\n    <tr>\n      <th>3</th>\n      <td>1969</td>\n      <td>B</td>\n      <td>1</td>\n      <td>1</td>\n      <td>I have kids playing soccer in green uniforms</td>\n      <td>2</td>\n      <td>21.162553</td>\n      <td>2.645319</td>\n      <td>8</td>\n      <td>[-2.672774076461792, -0.6501073837280273, -10....</td>\n      <td>['I', 'Ġhave', 'Ġkids', 'Ġplaying', 'Ġsoccer',...</td>\n      <td>0.500980</td>\n      <td>0.000000</td>\n      <td>0.569306</td>\n      <td>2.645319</td>\n    </tr>\n    <tr>\n      <th>4</th>\n      <td>1969</td>\n      <td>A</td>\n      <td>2</td>\n      <td>3</td>\n      <td>s playing soccer</td>\n      <td>2</td>\n      <td>35.640477</td>\n      <td>11.880159</td>\n      <td>3</td>\n      <td>[-8.807174682617188, -17.692106246948242, -9.1...</td>\n      <td>['s', 'Ġplaying', 'Ġsoccer']</td>\n      <td>1.543971</td>\n      <td>0.661086</td>\n      <td>1.606421</td>\n      <td>11.219073</td>\n    </tr>\n    <tr>\n      <th>...</th>\n      <td>...</td>\n      <td>...</td>\n      <td>...</td>\n      <td>...</td>\n      <td>...</td>\n      <td>...</td>\n      <td>...</td>\n      <td>...</td>\n      <td>...</td>\n      <td>...</td>\n      <td>...</td>\n      <td>...</td>\n      <td>...</td>\n      <td>...</td>\n      <td>...</td>\n    </tr>\n    <tr>\n      <th>15342</th>\n      <td>2408</td>\n      <td>A</td>\n      <td>1</td>\n      <td>1</td>\n      <td>I have a boy in red laying down holding a winn...</td>\n      <td>18054</td>\n      <td>54.494791</td>\n      <td>3.405924</td>\n      <td>16</td>\n      <td>[-2.672774076461792, -0.6501073837280273, -0.9...</td>\n      <td>['I', 'Ġhave', 'Ġa', 'Ġboy', 'Ġin', 'Ġred', 'Ġ...</td>\n      <td>0.804264</td>\n      <td>0.000000</td>\n      <td>0.864947</td>\n      <td>3.405924</td>\n    </tr>\n    <tr>\n      <th>15343</th>\n      <td>2408</td>\n      <td>A</td>\n      <td>2</td>\n      <td>2</td>\n      <td>I have a boy reading winnie the poo</td>\n      <td>18054</td>\n      <td>43.152194</td>\n      <td>4.315219</td>\n      <td>10</td>\n      <td>[-2.672774076461792, -0.6501073837280273, -0.9...</td>\n      <td>['I', 'Ġhave', 'Ġa', 'Ġboy', 'Ġreading', 'Ġwin...</td>\n      <td>0.899744</td>\n      <td>1.531285</td>\n      <td>0.649700</td>\n      <td>2.783935</td>\n    </tr>\n    <tr>\n      <th>15344</th>\n      <td>2408</td>\n      <td>B</td>\n      <td>3</td>\n      <td>4</td>\n      <td>A boy reading winnie the pooh?</td>\n      <td>18054</td>\n      <td>26.679221</td>\n      <td>2.964358</td>\n      <td>9</td>\n      <td>[-4.9017653465271, -5.930842399597168, -8.3123...</td>\n      <td>['A', 'Ġboy', 'Ġreading', 'Ġwin', 'nie', 'Ġthe...</td>\n      <td>0.594346</td>\n      <td>0.193344</td>\n      <td>0.623766</td>\n      <td>2.771014</td>\n    </tr>\n    <tr>\n      <th>15345</th>\n      <td>2408</td>\n      <td>B</td>\n      <td>1</td>\n      <td>2</td>\n      <td>I have 2 girls and a boy on a bed playing a vi...</td>\n      <td>18059</td>\n      <td>39.426369</td>\n      <td>2.816169</td>\n      <td>14</td>\n      <td>[-2.672774076461792, -0.6501073837280273, -6.7...</td>\n      <td>['I', 'Ġhave', 'Ġ2', 'Ġgirls', 'Ġand', 'Ġa', '...</td>\n      <td>0.647653</td>\n      <td>0.000000</td>\n      <td>0.701579</td>\n      <td>2.816169</td>\n    </tr>\n    <tr>\n      <th>15346</th>\n      <td>2408</td>\n      <td>A</td>\n      <td>2</td>\n      <td>4</td>\n      <td>the boy and 2 girls on the bed</td>\n      <td>18059</td>\n      <td>38.925607</td>\n      <td>4.865701</td>\n      <td>8</td>\n      <td>[-6.189882755279541, -5.621294975280762, -5.49...</td>\n      <td>['the', 'Ġboy', 'Ġand', 'Ġ2', 'Ġgirls', 'Ġon',...</td>\n      <td>0.921484</td>\n      <td>0.860410</td>\n      <td>0.861989</td>\n      <td>4.005291</td>\n    </tr>\n  </tbody>\n</table>\n<p>15347 rows × 15 columns</p>\n</div>"
     },
     "execution_count": 52,
     "metadata": {},
     "output_type": "execute_result"
    }
   ],
   "source": [
    "chains"
   ],
   "metadata": {
    "collapsed": false,
    "pycharm": {
     "name": "#%%\n"
    }
   }
  },
  {
   "cell_type": "code",
   "execution_count": 53,
   "id": "6eb3f675",
   "metadata": {
    "pycharm": {
     "name": "#%%\n"
    }
   },
   "outputs": [
    {
     "name": "stdout",
     "output_type": "stream",
     "text": [
      "15347 14431\n"
     ]
    }
   ],
   "source": [
    "hs = []\n",
    "hsc = []\n",
    "not_found = 0\n",
    "len_0 = 0\n",
    "found_multiple = defaultdict(list)\n",
    "\n",
    "new_df = []\n",
    "\n",
    "for i in range(len(chains)):\n",
    "    dial_id = chains.iloc[i, 0]\n",
    "    speaker = chains.iloc[i, 1]\n",
    "    round_number = chains.iloc[i, 3]\n",
    "    tokens = chains.iloc[i, 10]\n",
    "    h_ = chains.iloc[i, -1]\n",
    "\n",
    "    # print(dial_id, speaker, round_number, tokens)\n",
    "\n",
    "    utterance_in_dialogue = dials[\n",
    "        (dials['dialogue_id'] == dial_id)\n",
    "        & (dials['speaker'] == speaker)\n",
    "        & (dials['round_number'] == round_number)\n",
    "        & (dials['tokens'] == tokens)\n",
    "    ]\n",
    "\n",
    "    # print(utterance_in_dialogue)\n",
    "\n",
    "    if len(utterance_in_dialogue) == 0:\n",
    "        # print(dial_id, speaker, round_number, tokens)\n",
    "        # print(utterance_in_dialogue)\n",
    "        # print()\n",
    "        # len_0 += 1\n",
    "        continue\n",
    "        \n",
    "#     assert len(utterance_in_dialogue) == 1, f'Found {len(utterance_in_dialogue)} utterances'\n",
    "    \n",
    "    if len(utterance_in_dialogue) > 1:\n",
    "        continue\n",
    "        # print(dial_id, round_number, speaker, tokens, h_)\n",
    "        # print()\n",
    "        # print(utterance_in_dialogue)\n",
    "\n",
    "#         for j, row in utterance_in_dialogue.iterrows():\n",
    "#\n",
    "#             position_in_round = row['position_in_round']\n",
    "# #             print(position_in_round)\n",
    "#             if position_in_round in found_multiple[(dial_id, speaker, round_number, tokens)]:\n",
    "# #                 print('Already processed')\n",
    "#                 continue\n",
    "#             else:\n",
    "#                 found_multiple[(dial_id, speaker, round_number, tokens)].append(position_in_round)\n",
    "# #                 print(f'This is position {position_in_round}')\n",
    "#                 utterance_in_dialogue = pd.DataFrame(row)\n",
    "#                 hs = row['normalised_h']\n",
    "#                 hsc = row['normalised_h_dialogue_id']\n",
    "    else:\n",
    "                \n",
    "#         print(dial_id, round_number, speaker, tokens)\n",
    "#         print()\n",
    "#         print(utterance_in_dialogue)\n",
    "#         break\n",
    "        \n",
    "        hs = float(list(utterance_in_dialogue['normalised_h'])[0])\n",
    "        hsc = float(list(utterance_in_dialogue['normalised_h_dialogue_id'])[0])\n",
    "    \n",
    "    new_row = list(chains.iloc[i, :].values) + [hs, hsc]\n",
    "    new_df.append(tuple(new_row))\n",
    "    \n",
    "print(len(chains), len(new_df))"
   ]
  },
  {
   "cell_type": "code",
   "execution_count": 54,
   "outputs": [
    {
     "data": {
      "text/plain": "0"
     },
     "execution_count": 54,
     "metadata": {},
     "output_type": "execute_result"
    }
   ],
   "source": [
    "len(found_multiple)"
   ],
   "metadata": {
    "collapsed": false,
    "pycharm": {
     "name": "#%%\n"
    }
   }
  },
  {
   "cell_type": "code",
   "execution_count": 55,
   "id": "d906b874",
   "metadata": {
    "pycharm": {
     "name": "#%%\n"
    }
   },
   "outputs": [],
   "source": [
    "chains_dial = pd.DataFrame(new_df, columns=list(chains.keys()) + ['hs_dial', 'hsc_dial'])"
   ]
  },
  {
   "cell_type": "code",
   "execution_count": 36,
   "id": "098ce3a1",
   "metadata": {
    "pycharm": {
     "name": "#%%\n"
    }
   },
   "outputs": [
    {
     "ename": "AttributeError",
     "evalue": "'numpy.float64' object has no attribute 'values'",
     "output_type": "error",
     "traceback": [
      "\u001B[0;31m---------------------------------------------------------------------------\u001B[0m",
      "\u001B[0;31mAttributeError\u001B[0m                            Traceback (most recent call last)",
      "Input \u001B[0;32mIn [36]\u001B[0m, in \u001B[0;36m<cell line: 1>\u001B[0;34m()\u001B[0m\n\u001B[0;32m----> 1\u001B[0m \u001B[38;5;28mfloat\u001B[39m(\u001B[43mchains_dial\u001B[49m\u001B[38;5;241;43m.\u001B[39;49m\u001B[43miloc\u001B[49m\u001B[43m[\u001B[49m\u001B[38;5;241;43m0\u001B[39;49m\u001B[43m,\u001B[49m\u001B[43m \u001B[49m\u001B[38;5;241;43m-\u001B[39;49m\u001B[38;5;241;43m1\u001B[39;49m\u001B[43m]\u001B[49m\u001B[38;5;241;43m.\u001B[39;49m\u001B[43mvalues\u001B[49m)\n",
      "\u001B[0;31mAttributeError\u001B[0m: 'numpy.float64' object has no attribute 'values'"
     ]
    }
   ],
   "source": [
    "float(chains_dial.iloc[0, -1].values)"
   ]
  },
  {
   "cell_type": "code",
   "execution_count": 56,
   "id": "0cdb68fd",
   "metadata": {
    "pycharm": {
     "name": "#%%\n"
    }
   },
   "outputs": [
    {
     "data": {
      "text/plain": "   dialogue_id speaker  position_in_chain  round_number  \\\n0         2389       A                  1             1   \n1         2389       A                  2             2   \n2         2389       B                  3             4   \n3         1969       B                  1             1   \n4         1969       A                  2             3   \n\n                                                text  chain_id          h  \\\n0              kids playing soccer in green jerseys?         1  26.546213   \n1              kids playing soccer in green jerseys?         1  26.546213   \n2  4 young boys in green jersey shirts playing so...         1  51.377193   \n3       I have kids playing soccer in green uniforms         2  21.162553   \n4                                   s playing soccer         2  35.640477   \n\n   normalised_h  length                                           tokens_h  \\\n0      3.792316       7  [-12.547093391418457, -1.763575792312622, -2.6...   \n1      3.792316       7  [-12.547093391418457, -1.763575792312622, -2.6...   \n2      5.137719      10  [-8.356040954589844, -13.088624954223633, -1.7...   \n3      2.645319       8  [-2.672774076461792, -0.6501073837280273, -10....   \n4     11.880159       3  [-8.807174682617188, -17.692106246948242, -9.1...   \n\n                                              tokens      xu_h  mi_chains_id  \\\n0  ['kids', 'Ġplaying', 'Ġsoccer', 'Ġin', 'Ġgreen...  0.704599      0.000000   \n1  ['kids', 'Ġplaying', 'Ġsoccer', 'Ġin', 'Ġgreen...  0.704599      1.806862   \n2  ['4', 'Ġyoung', 'Ġboys', 'Ġin', 'Ġgreen', 'Ġje...  1.071240      0.224114   \n3  ['I', 'Ġhave', 'Ġkids', 'Ġplaying', 'Ġsoccer',...  0.500980      0.000000   \n4                       ['s', 'Ġplaying', 'Ġsoccer']  1.543971      0.661086   \n\n   xu_h_chains_id  normalised_h_chains_id    hs_dial   hsc_dial  \n0        0.795797                3.792316   3.792316   3.216236  \n1        0.416637                1.985454   3.792316   2.197684  \n2        1.146712                4.913605   5.137719   4.661895  \n3        0.569306                2.645319   2.645319   2.645312  \n4        1.606421               11.219073  11.880158  12.539171  ",
      "text/html": "<div>\n<style scoped>\n    .dataframe tbody tr th:only-of-type {\n        vertical-align: middle;\n    }\n\n    .dataframe tbody tr th {\n        vertical-align: top;\n    }\n\n    .dataframe thead th {\n        text-align: right;\n    }\n</style>\n<table border=\"1\" class=\"dataframe\">\n  <thead>\n    <tr style=\"text-align: right;\">\n      <th></th>\n      <th>dialogue_id</th>\n      <th>speaker</th>\n      <th>position_in_chain</th>\n      <th>round_number</th>\n      <th>text</th>\n      <th>chain_id</th>\n      <th>h</th>\n      <th>normalised_h</th>\n      <th>length</th>\n      <th>tokens_h</th>\n      <th>tokens</th>\n      <th>xu_h</th>\n      <th>mi_chains_id</th>\n      <th>xu_h_chains_id</th>\n      <th>normalised_h_chains_id</th>\n      <th>hs_dial</th>\n      <th>hsc_dial</th>\n    </tr>\n  </thead>\n  <tbody>\n    <tr>\n      <th>0</th>\n      <td>2389</td>\n      <td>A</td>\n      <td>1</td>\n      <td>1</td>\n      <td>kids playing soccer in green jerseys?</td>\n      <td>1</td>\n      <td>26.546213</td>\n      <td>3.792316</td>\n      <td>7</td>\n      <td>[-12.547093391418457, -1.763575792312622, -2.6...</td>\n      <td>['kids', 'Ġplaying', 'Ġsoccer', 'Ġin', 'Ġgreen...</td>\n      <td>0.704599</td>\n      <td>0.000000</td>\n      <td>0.795797</td>\n      <td>3.792316</td>\n      <td>3.792316</td>\n      <td>3.216236</td>\n    </tr>\n    <tr>\n      <th>1</th>\n      <td>2389</td>\n      <td>A</td>\n      <td>2</td>\n      <td>2</td>\n      <td>kids playing soccer in green jerseys?</td>\n      <td>1</td>\n      <td>26.546213</td>\n      <td>3.792316</td>\n      <td>7</td>\n      <td>[-12.547093391418457, -1.763575792312622, -2.6...</td>\n      <td>['kids', 'Ġplaying', 'Ġsoccer', 'Ġin', 'Ġgreen...</td>\n      <td>0.704599</td>\n      <td>1.806862</td>\n      <td>0.416637</td>\n      <td>1.985454</td>\n      <td>3.792316</td>\n      <td>2.197684</td>\n    </tr>\n    <tr>\n      <th>2</th>\n      <td>2389</td>\n      <td>B</td>\n      <td>3</td>\n      <td>4</td>\n      <td>4 young boys in green jersey shirts playing so...</td>\n      <td>1</td>\n      <td>51.377193</td>\n      <td>5.137719</td>\n      <td>10</td>\n      <td>[-8.356040954589844, -13.088624954223633, -1.7...</td>\n      <td>['4', 'Ġyoung', 'Ġboys', 'Ġin', 'Ġgreen', 'Ġje...</td>\n      <td>1.071240</td>\n      <td>0.224114</td>\n      <td>1.146712</td>\n      <td>4.913605</td>\n      <td>5.137719</td>\n      <td>4.661895</td>\n    </tr>\n    <tr>\n      <th>3</th>\n      <td>1969</td>\n      <td>B</td>\n      <td>1</td>\n      <td>1</td>\n      <td>I have kids playing soccer in green uniforms</td>\n      <td>2</td>\n      <td>21.162553</td>\n      <td>2.645319</td>\n      <td>8</td>\n      <td>[-2.672774076461792, -0.6501073837280273, -10....</td>\n      <td>['I', 'Ġhave', 'Ġkids', 'Ġplaying', 'Ġsoccer',...</td>\n      <td>0.500980</td>\n      <td>0.000000</td>\n      <td>0.569306</td>\n      <td>2.645319</td>\n      <td>2.645319</td>\n      <td>2.645312</td>\n    </tr>\n    <tr>\n      <th>4</th>\n      <td>1969</td>\n      <td>A</td>\n      <td>2</td>\n      <td>3</td>\n      <td>s playing soccer</td>\n      <td>2</td>\n      <td>35.640477</td>\n      <td>11.880159</td>\n      <td>3</td>\n      <td>[-8.807174682617188, -17.692106246948242, -9.1...</td>\n      <td>['s', 'Ġplaying', 'Ġsoccer']</td>\n      <td>1.543971</td>\n      <td>0.661086</td>\n      <td>1.606421</td>\n      <td>11.219073</td>\n      <td>11.880158</td>\n      <td>12.539171</td>\n    </tr>\n  </tbody>\n</table>\n</div>"
     },
     "execution_count": 56,
     "metadata": {},
     "output_type": "execute_result"
    }
   ],
   "source": [
    "chains_dial.head()"
   ]
  },
  {
   "cell_type": "code",
   "execution_count": 57,
   "id": "9e29b8bc",
   "metadata": {
    "pycharm": {
     "name": "#%%\n"
    }
   },
   "outputs": [],
   "source": [
    "surprisal_by_len = defaultdict(list)\n",
    "for i in range(len(chains_dial)):\n",
    "    surprisal_by_len[\n",
    "        chains_dial.iloc[i, :]['length']\n",
    "    ].append(\n",
    "        chains_dial.iloc[i, :]['hs_dial']\n",
    "    )\n",
    "\n",
    "    surprisal_by_len[\n",
    "        chains_dial.iloc[i, :]['length']\n",
    "    ].append(\n",
    "        chains_dial.iloc[i, :]['hsc_dial']\n",
    "    )\n",
    "    \n",
    "mean_surprisal_by_len = {}\n",
    "for l in surprisal_by_len:\n",
    "    mean_surprisal_by_len[l] = np.mean(surprisal_by_len[l])\n",
    "\n",
    "xu_hs_dial = []\n",
    "xu_hsc_dial = []\n",
    "for index, row in chains_dial.iterrows():\n",
    "    try:\n",
    "        xu_hs_dial.append(row['hs_dial'] / mean_surprisal_by_len[row['length']])\n",
    "    except KeyError:\n",
    "        xu_hs_dial.append(np.nan)\n",
    "    try:\n",
    "        xu_hsc_dial.append(row['hsc_dial'] / mean_surprisal_by_len[row['length']])\n",
    "    except KeyError:\n",
    "        xu_hsc_dial.append(np.nan)\n",
    "        \n",
    "chains_dial.loc[:, 'xu_hs_dial'] = xu_hs_dial\n",
    "chains_dial.loc[:, 'xu_hsc_dial'] = xu_hsc_dial\n",
    "\n",
    "df_new = chains_dial.copy()\n",
    "\n",
    "\n",
    "mi_dial = []\n",
    "xu_mi_dial = []\n",
    "nans = 0\n",
    "for index, row in chains_dial.iterrows():\n",
    "    try:\n",
    "        mi_dial.append(row['hs_dial'] - row['hsc_dial'])\n",
    "    except KeyError:\n",
    "        mi_dial.append(np.nan)\n",
    "    try:\n",
    "        xu_mi_dial.append(row['xu_hs_dial'] - row['xu_hsc_dial'])\n",
    "    except KeyError:\n",
    "        xu_mi_dial.append(np.nan)\n",
    "\n",
    "df_new.loc[:, 'mi_dial'] = mi_dial\n",
    "df_new.loc[:, 'hs_dial'] = chains_dial['hs_dial'].values\n",
    "df_new.loc[:, 'hsc_dial'] = chains_dial['hsc_dial'].values\n",
    "df_new.loc[:, 'xu_hs_dial'] = chains_dial['xu_hs_dial'].values\n",
    "df_new.loc[:, 'xu_hsc_dial'] = chains_dial['xu_hsc_dial'].values\n",
    "df_new.loc[:, 'mi_dial'] = mi_dial\n",
    "df_new.loc[:, 'xu_mi_dial'] = xu_mi_dial\n"
   ]
  },
  {
   "cell_type": "code",
   "execution_count": 58,
   "id": "4304fdec",
   "metadata": {
    "pycharm": {
     "name": "#%%\n"
    }
   },
   "outputs": [
    {
     "data": {
      "text/plain": "   dialogue_id speaker  position_in_chain  round_number  \\\n0         2389       A                  1             1   \n1         2389       A                  2             2   \n2         2389       B                  3             4   \n3         1969       B                  1             1   \n4         1969       A                  2             3   \n\n                                                text  chain_id          h  \\\n0              kids playing soccer in green jerseys?         1  26.546213   \n1              kids playing soccer in green jerseys?         1  26.546213   \n2  4 young boys in green jersey shirts playing so...         1  51.377193   \n3       I have kids playing soccer in green uniforms         2  21.162553   \n4                                   s playing soccer         2  35.640477   \n\n   normalised_h  length                                           tokens_h  \\\n0      3.792316       7  [-12.547093391418457, -1.763575792312622, -2.6...   \n1      3.792316       7  [-12.547093391418457, -1.763575792312622, -2.6...   \n2      5.137719      10  [-8.356040954589844, -13.088624954223633, -1.7...   \n3      2.645319       8  [-2.672774076461792, -0.6501073837280273, -10....   \n4     11.880159       3  [-8.807174682617188, -17.692106246948242, -9.1...   \n\n   ...      xu_h  mi_chains_id  xu_h_chains_id  normalised_h_chains_id  \\\n0  ...  0.704599      0.000000        0.795797                3.792316   \n1  ...  0.704599      1.806862        0.416637                1.985454   \n2  ...  1.071240      0.224114        1.146712                4.913605   \n3  ...  0.500980      0.000000        0.569306                2.645319   \n4  ...  1.543971      0.661086        1.606421               11.219073   \n\n     hs_dial   hsc_dial  xu_hs_dial  xu_hsc_dial   mi_dial  xu_mi_dial  \n0   3.792316   3.216236    0.761590     0.645899  0.576080    0.115691  \n1   3.792316   2.197684    0.761590     0.441349  1.594632    0.320241  \n2   5.137719   4.661895    1.149086     1.042665  0.475824    0.106421  \n3   2.645319   2.645312    0.541843     0.541841  0.000007    0.000001  \n4  11.880158  12.539171    1.684570     1.778016 -0.659013   -0.093446  \n\n[5 rows x 21 columns]",
      "text/html": "<div>\n<style scoped>\n    .dataframe tbody tr th:only-of-type {\n        vertical-align: middle;\n    }\n\n    .dataframe tbody tr th {\n        vertical-align: top;\n    }\n\n    .dataframe thead th {\n        text-align: right;\n    }\n</style>\n<table border=\"1\" class=\"dataframe\">\n  <thead>\n    <tr style=\"text-align: right;\">\n      <th></th>\n      <th>dialogue_id</th>\n      <th>speaker</th>\n      <th>position_in_chain</th>\n      <th>round_number</th>\n      <th>text</th>\n      <th>chain_id</th>\n      <th>h</th>\n      <th>normalised_h</th>\n      <th>length</th>\n      <th>tokens_h</th>\n      <th>...</th>\n      <th>xu_h</th>\n      <th>mi_chains_id</th>\n      <th>xu_h_chains_id</th>\n      <th>normalised_h_chains_id</th>\n      <th>hs_dial</th>\n      <th>hsc_dial</th>\n      <th>xu_hs_dial</th>\n      <th>xu_hsc_dial</th>\n      <th>mi_dial</th>\n      <th>xu_mi_dial</th>\n    </tr>\n  </thead>\n  <tbody>\n    <tr>\n      <th>0</th>\n      <td>2389</td>\n      <td>A</td>\n      <td>1</td>\n      <td>1</td>\n      <td>kids playing soccer in green jerseys?</td>\n      <td>1</td>\n      <td>26.546213</td>\n      <td>3.792316</td>\n      <td>7</td>\n      <td>[-12.547093391418457, -1.763575792312622, -2.6...</td>\n      <td>...</td>\n      <td>0.704599</td>\n      <td>0.000000</td>\n      <td>0.795797</td>\n      <td>3.792316</td>\n      <td>3.792316</td>\n      <td>3.216236</td>\n      <td>0.761590</td>\n      <td>0.645899</td>\n      <td>0.576080</td>\n      <td>0.115691</td>\n    </tr>\n    <tr>\n      <th>1</th>\n      <td>2389</td>\n      <td>A</td>\n      <td>2</td>\n      <td>2</td>\n      <td>kids playing soccer in green jerseys?</td>\n      <td>1</td>\n      <td>26.546213</td>\n      <td>3.792316</td>\n      <td>7</td>\n      <td>[-12.547093391418457, -1.763575792312622, -2.6...</td>\n      <td>...</td>\n      <td>0.704599</td>\n      <td>1.806862</td>\n      <td>0.416637</td>\n      <td>1.985454</td>\n      <td>3.792316</td>\n      <td>2.197684</td>\n      <td>0.761590</td>\n      <td>0.441349</td>\n      <td>1.594632</td>\n      <td>0.320241</td>\n    </tr>\n    <tr>\n      <th>2</th>\n      <td>2389</td>\n      <td>B</td>\n      <td>3</td>\n      <td>4</td>\n      <td>4 young boys in green jersey shirts playing so...</td>\n      <td>1</td>\n      <td>51.377193</td>\n      <td>5.137719</td>\n      <td>10</td>\n      <td>[-8.356040954589844, -13.088624954223633, -1.7...</td>\n      <td>...</td>\n      <td>1.071240</td>\n      <td>0.224114</td>\n      <td>1.146712</td>\n      <td>4.913605</td>\n      <td>5.137719</td>\n      <td>4.661895</td>\n      <td>1.149086</td>\n      <td>1.042665</td>\n      <td>0.475824</td>\n      <td>0.106421</td>\n    </tr>\n    <tr>\n      <th>3</th>\n      <td>1969</td>\n      <td>B</td>\n      <td>1</td>\n      <td>1</td>\n      <td>I have kids playing soccer in green uniforms</td>\n      <td>2</td>\n      <td>21.162553</td>\n      <td>2.645319</td>\n      <td>8</td>\n      <td>[-2.672774076461792, -0.6501073837280273, -10....</td>\n      <td>...</td>\n      <td>0.500980</td>\n      <td>0.000000</td>\n      <td>0.569306</td>\n      <td>2.645319</td>\n      <td>2.645319</td>\n      <td>2.645312</td>\n      <td>0.541843</td>\n      <td>0.541841</td>\n      <td>0.000007</td>\n      <td>0.000001</td>\n    </tr>\n    <tr>\n      <th>4</th>\n      <td>1969</td>\n      <td>A</td>\n      <td>2</td>\n      <td>3</td>\n      <td>s playing soccer</td>\n      <td>2</td>\n      <td>35.640477</td>\n      <td>11.880159</td>\n      <td>3</td>\n      <td>[-8.807174682617188, -17.692106246948242, -9.1...</td>\n      <td>...</td>\n      <td>1.543971</td>\n      <td>0.661086</td>\n      <td>1.606421</td>\n      <td>11.219073</td>\n      <td>11.880158</td>\n      <td>12.539171</td>\n      <td>1.684570</td>\n      <td>1.778016</td>\n      <td>-0.659013</td>\n      <td>-0.093446</td>\n    </tr>\n  </tbody>\n</table>\n<p>5 rows × 21 columns</p>\n</div>"
     },
     "execution_count": 58,
     "metadata": {},
     "output_type": "execute_result"
    }
   ],
   "source": [
    "df_new.head()"
   ]
  },
  {
   "cell_type": "code",
   "execution_count": 59,
   "id": "028be6ff",
   "metadata": {
    "pycharm": {
     "name": "#%%\n"
    }
   },
   "outputs": [],
   "source": [
    "df_new.to_csv('/Users/mario/code/uid-dialogue/re-analysis/results/pbchains_gpt2-ft_both_contexts.csv')"
   ]
  },
  {
   "cell_type": "code",
   "execution_count": null,
   "id": "8a69ed78",
   "metadata": {
    "pycharm": {
     "name": "#%%\n"
    }
   },
   "outputs": [],
   "source": []
  }
 ],
 "metadata": {
  "kernelspec": {
   "display_name": "Python 3 (ipykernel)",
   "language": "python",
   "name": "python3"
  },
  "language_info": {
   "codemirror_mode": {
    "name": "ipython",
    "version": 3
   },
   "file_extension": ".py",
   "mimetype": "text/x-python",
   "name": "python",
   "nbconvert_exporter": "python",
   "pygments_lexer": "ipython3",
   "version": "3.8.9"
  }
 },
 "nbformat": 4,
 "nbformat_minor": 5
}